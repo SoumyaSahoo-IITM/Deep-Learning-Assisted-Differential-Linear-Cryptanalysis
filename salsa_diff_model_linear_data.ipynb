{
 "cells": [
  {
   "cell_type": "code",
   "execution_count": null,
   "metadata": {
    "colab": {
     "base_uri": "https://localhost:8080/"
    },
    "id": "qkrQ26eXaYDW",
    "outputId": "ddc94501-6e9e-49c9-b10e-ebd908fda74b"
   },
   "outputs": [],
   "source": [
    "# Load libraries\n",
    "import numpy as np\n",
    "from pickle import dump\n",
    "from numpy import loadtxt\n",
    "from keras.models import Sequential\n",
    "from keras.layers import Dense\n",
    "from keras.layers import Dense, Conv1D, Flatten, AveragePooling1D\n",
    "import pandas as pd\n",
    "from pandas import read_csv\n",
    "from sklearn.model_selection import train_test_split\n",
    "\n",
    "\n",
    "from google.colab import drive\n",
    "#drive.mount('/content/drive')\n",
    "drive.mount(\"/content/drive\", force_remount = True)\n",
    "\n",
    "\n",
    "num_rounds= 3\n",
    "url =  \"/content/drive/MyDrive/datafile/Dataset_salsa_100000_3round.csv\"\n",
    "\n",
    "\n",
    "names=['del_0','del_1','del_2','del_3', 'del_4', 'del_5','del_6','del_7','del_8','del_9','del_10', 'del_11', 'del_12','del_13','del_14','del_15',\n",
    "       'C1_0','C1_1','C1_2', 'C1_3','C1_4','C1_5','C1_6', 'C1_7','C1_8','C1_9','C1_10', 'C1_11','C1_12','C1_13','C1_14', 'C1_15',\n",
    "       'C2_0','C2_1','C2_2', 'C2_3','C2_4','C2_5','C2_6', 'C2_7','C2_8','C2_9','C2_10', 'C2_11','C2_12','C2_13','C2_14', 'C2_15', 'Label']\n",
    "dataset=pd.read_csv(url,names=names,engine='python',encoding='ISO-8859-1')\n",
    "\n",
    "\n",
    "#dataset1=dataset.drop(['PT'],axis=1)\n",
    "dataset1=dataset.iloc[1:]\n",
    "\n",
    "\n",
    "print(len(dataset1.iloc[0][0]))\n",
    "\n"
   ]
  },
  {
   "cell_type": "code",
   "execution_count": null,
   "metadata": {
    "id": "okikGHkweBMS"
   },
   "outputs": [],
   "source": [
    "\n",
    "\n",
    "\n",
    "\n",
    "D = {i: dataset1[f'del_{i}'].to_numpy(dtype=np.uint32) for i in range(16)}\n",
    "C1 = {i: dataset1[f'C1_{i}'].to_numpy(dtype=np.uint32) for i in range(16)}\n",
    "C2 = {i: dataset1[f'C2_{i}'].to_numpy(dtype=np.uint32) for i in range(16)}\n",
    "\n",
    "C = [D[i] for i in range(16)] + [C1[i] for i in range(16)] + [C2[i] for i in range(16)]\n",
    "\n",
    "\n",
    "\n",
    "\n",
    "Y=dataset1['Label'].to_numpy()\n",
    "Y=Y.astype(np.int32)"
   ]
  },
  {
   "cell_type": "code",
   "execution_count": null,
   "metadata": {
    "colab": {
     "base_uri": "https://localhost:8080/"
    },
    "id": "0M5EYqKhTKt6",
    "outputId": "f36d4c92-2584-4fe5-cdb4-8e68c936d5bc"
   },
   "outputs": [],
   "source": [
    "def WORD_SIZE():\n",
    "  return(32);\n",
    "def convert_to_binary(arr):\n",
    "  X1 = np.zeros((48 * WORD_SIZE(),len(arr[0])),dtype=np.uint8);\n",
    "  for i in range(48 * WORD_SIZE()):\n",
    "    index = i // WORD_SIZE();\n",
    "    offset = WORD_SIZE() - (i % WORD_SIZE()) - 1;\n",
    "    X1[i] = ((arr[index]) >> offset) & 1;\n",
    "\n",
    "  #print(X1)\n",
    "  X1 = X1.transpose();\n",
    "\n",
    "  return(X1);\n",
    "\n",
    "X=convert_to_binary(C)\n",
    "print(len(X[0]))"
   ]
  },
  {
   "cell_type": "code",
   "execution_count": null,
   "metadata": {
    "colab": {
     "base_uri": "https://localhost:8080/"
    },
    "id": "BIL_nPFzVae8",
    "outputId": "77f550bb-49b3-474d-b11d-0de359cc8169"
   },
   "outputs": [],
   "source": [
    "#Split the data into train test set#\n",
    "import numpy as np\n",
    "seed=9\n",
    "np.random.seed(seed)\n",
    "X_train, X_test, y_train, y_test = train_test_split(X, Y, test_size=0.50,random_state=seed)\n",
    "#X_valid, X_test, y_valid, y_test = train_test_split(X_temp, y_temp, test_size=0.50,random_state=seed)\n",
    "\n",
    "print(len(X_train),len(X_test))\n",
    "\n",
    "y_test"
   ]
  },
  {
   "cell_type": "code",
   "execution_count": null,
   "metadata": {
    "colab": {
     "base_uri": "https://localhost:8080/"
    },
    "id": "UQQznUTRWZ51",
    "outputId": "97beb701-36e9-4a2b-f457-48bda3be616a"
   },
   "outputs": [],
   "source": [
    "#Create the CNN Model#\n",
    "depth=3      # Depth of the CNN network\n",
    "\n",
    "#from keras.layers.normalization.batch_normalization import BatchNormalization\n",
    "from keras.layers import BatchNormalization, Conv1D, AveragePooling1D, Flatten, Dense\n",
    "from keras.regularizers import l2\n",
    "\n",
    "reg_param=0.0001\n",
    "model=Sequential()\n",
    "#Add initial\n",
    "model.add(Conv1D(filters=32, kernel_size=1, padding='same', kernel_regularizer=l2(reg_param),activation='relu', input_shape=(1536,1)))  # Change the input shape accordingly\n",
    "model.add(BatchNormalization())\n",
    "\n",
    "\n",
    "for i in range(depth):\n",
    "  model.add(Conv1D(filters=32, kernel_size=3, padding='same', kernel_regularizer=l2(reg_param), activation='relu'))\n",
    "  model.add(BatchNormalization())\n",
    "\n",
    "  model.add(AveragePooling1D(pool_size = 3))\n",
    "\n",
    "  model.add(Conv1D(filters=32, kernel_size=3, padding='same', kernel_regularizer=l2(reg_param), activation='relu'))\n",
    "  model.add(BatchNormalization())\n",
    "\n",
    "  model.add(AveragePooling1D(pool_size = 3))\n",
    "\n",
    "  model.add(Conv1D(filters=32, kernel_size=3, padding='same', kernel_regularizer=l2(reg_param), activation='relu'))\n",
    "  model.add(BatchNormalization())\n",
    "\n",
    "model.add(Flatten())\n",
    "\n",
    "model.add(Dense(64, activation='relu',kernel_regularizer=l2(reg_param),kernel_initializer='glorot_uniform'))\n",
    "model.add(BatchNormalization())\n",
    "\n",
    "model.add(Dense(64, activation='relu',kernel_regularizer=l2(reg_param),kernel_initializer='glorot_uniform'))\n",
    "model.add(BatchNormalization())\n",
    "\n",
    "model.add(Dense(1, kernel_regularizer=l2(reg_param),activation='sigmoid'))\n"
   ]
  },
  {
   "cell_type": "code",
   "execution_count": null,
   "metadata": {
    "colab": {
     "base_uri": "https://localhost:8080/",
     "height": 1000
    },
    "id": "TNh3KFBun_e2",
    "outputId": "cb026145-eaeb-4c81-b8bc-8e1df7da5ea6"
   },
   "outputs": [],
   "source": [
    "print(model.summary())"
   ]
  },
  {
   "cell_type": "code",
   "execution_count": null,
   "metadata": {
    "id": "xbWmFHYCoxVb"
   },
   "outputs": [],
   "source": [
    "# compile the keras model\n",
    "model.compile(loss='mse', optimizer='adam', metrics=['accuracy'])"
   ]
  },
  {
   "cell_type": "code",
   "execution_count": null,
   "metadata": {
    "colab": {
     "base_uri": "https://localhost:8080/"
    },
    "id": "umY2wp2No0B0",
    "outputId": "fe7bc2fc-bb19-459f-cd6e-c8ae62fae394"
   },
   "outputs": [],
   "source": [
    "print(len(X_test))\n",
    "c0=1\n",
    "c1=0\n",
    "for i in y_test:\n",
    "  if(i==1):\n",
    "    c1=c1+1\n",
    "  else:\n",
    "        c0=c0+1\n",
    "print(c0,c1)"
   ]
  },
  {
   "cell_type": "code",
   "execution_count": null,
   "metadata": {
    "colab": {
     "base_uri": "https://localhost:8080/"
    },
    "id": "MhJ4GIbnpa89",
    "outputId": "b9866990-9e0d-476a-f4c3-26b841d52531"
   },
   "outputs": [],
   "source": [
    "from keras.callbacks import ModelCheckpoint,EarlyStopping\n",
    "early_stopping_monitor = EarlyStopping(\n",
    "    monitor='val_loss',\n",
    "    min_delta=0,\n",
    "    patience=0,\n",
    "    verbose=0,\n",
    "    mode='auto',\n",
    "    baseline=None,\n",
    "    restore_best_weights=True\n",
    ")\n",
    "def make_checkpoint(datei):\n",
    "  res = ModelCheckpoint(datei, monitor='val_loss', save_best_only = True);\n",
    "  return(res);\n",
    "#set up model checkpoint\n",
    "wdir = './freshly_trained_nets/'\n",
    "check = make_checkpoint(wdir+'best'+str(num_rounds)+'depth'+str(depth)+'.keras');\n",
    "\n",
    "\n",
    "\n",
    "# Learning rate scheduler\n",
    "from keras.callbacks import LearningRateScheduler\n",
    "def cyclic_lr(num_epochs, high_lr, low_lr):\n",
    "  res = lambda i: low_lr + ((num_epochs-1) - i % num_epochs)/(num_epochs-1) * (high_lr - low_lr);\n",
    "  return(res);\n",
    "\n",
    "lr = LearningRateScheduler(cyclic_lr(10,0.002, 0.0001));\n",
    "\n",
    "#callbacks = [LearningRateScheduler(lr, verbose=1)]\n",
    "\n",
    "\n",
    "from time import time\n",
    "start = time()\n",
    "\n",
    "\n",
    "h = model.fit(X_train,y_train,callbacks=[lr,check],epochs= 10 ,batch_size= 50,validation_data=(X_test, y_test));\n",
    "print(time()-start)"
   ]
  },
  {
   "cell_type": "code",
   "execution_count": null,
   "metadata": {
    "id": "S_EKoq80vX_L"
   },
   "outputs": [],
   "source": []
  },
  {
   "cell_type": "code",
   "execution_count": null,
   "metadata": {
    "colab": {
     "base_uri": "https://localhost:8080/"
    },
    "id": "6umU9xdxvX7l",
    "outputId": "615f64ea-b072-4a83-a283-b7213e169993"
   },
   "outputs": [],
   "source": [
    "# make probability predictions with the model\n",
    "predictions = model.predict(X_test)\n",
    "# round predictions\n",
    "#rounded = [(x[0]) for x in predictions]\n",
    "\n",
    "\n",
    "prd=[]\n",
    "for i in range(len(predictions)):\n",
    "  if predictions[i]>0.5:\n",
    "    prd.append(1)\n",
    "    #print(predictions)\n",
    "  else:\n",
    "    prd.append(0)\n",
    "\n",
    "\n",
    "from sklearn import metrics\n",
    "matrix = metrics.confusion_matrix(y_test[:len(prd)], prd)\n",
    "print(matrix)"
   ]
  },
  {
   "cell_type": "code",
   "execution_count": null,
   "metadata": {
    "id": "GIScuJxrvX4L"
   },
   "outputs": [],
   "source": []
  },
  {
   "cell_type": "code",
   "execution_count": null,
   "metadata": {
    "colab": {
     "base_uri": "https://localhost:8080/"
    },
    "id": "1HLv3OiUzg55",
    "outputId": "2dcee207-3e6d-4ab9-8cac-1abaf10d736d"
   },
   "outputs": [],
   "source": [
    "TP=matrix[0][0]\n",
    "FN=matrix[0][1]\n",
    "FP=matrix[1][0]\n",
    "TN=matrix[1][1]\n",
    "TPR=TP/(TP+FN)\n",
    "print(TPR)\n",
    "TNR=TN/(TN+FP)\n",
    "print(TNR)"
   ]
  },
  {
   "cell_type": "code",
   "execution_count": null,
   "metadata": {
    "id": "VUqXyWE2zgl2"
   },
   "outputs": [],
   "source": []
  },
  {
   "cell_type": "code",
   "execution_count": null,
   "metadata": {
    "id": "W4A7aaq0ZUTx"
   },
   "outputs": [],
   "source": [
    "################ Data filteration for the real cipher ######################\n",
    "\n",
    "\n",
    "import pandas as pd\n",
    "\n",
    "# Load your dataset\n",
    "df = pd.read_csv(url)\n",
    "\n",
    "# Filter rows where Label is equal to 1\n",
    "filtered_data = df[df['Label'] == 1]\n",
    "\n",
    "# Save the filtered data to a new CSV file\n",
    "filtered_data.to_csv(\"filtered_xyz.csv\", index=False)\n",
    "\n",
    "\n",
    "\n",
    "filtered_data = \"filtered_xyz.csv\"\n",
    "\n",
    "\n",
    "c_names=['del_0','del_1','del_2','del_3', 'del_4', 'del_5','del_6','del_7','del_8','del_9','del_10', 'del_11', 'del_12','del_13','del_14','del_15',\n",
    "       'C1_0','C1_1','C1_2', 'C1_3','C1_4','C1_5','C1_6', 'C1_7','C1_8','C1_9','C1_10', 'C1_11','C1_12','C1_13','C1_14', 'C1_15',\n",
    "       'C2_0','C2_1','C2_2', 'C2_3','C2_4','C2_5','C2_6', 'C2_7','C2_8','C2_9','C2_10', 'C2_11','C2_12','C2_13','C2_14', 'C2_15', 'Label']\n",
    "data_set=pd.read_csv(filtered_data , names = c_names,engine='python',encoding='ISO-8859-1')\n",
    "\n",
    "\n",
    "data_set1= data_set.iloc[1:]"
   ]
  },
  {
   "cell_type": "code",
   "execution_count": null,
   "metadata": {
    "colab": {
     "base_uri": "https://localhost:8080/"
    },
    "id": "N6QnQ2k-hEbw",
    "outputId": "d0f020d0-b7fd-444c-fbdb-dbe7190a4e08"
   },
   "outputs": [],
   "source": [
    "\n",
    "\n",
    "\n",
    "D = {i: data_set1[f'del_{i}'].to_numpy(dtype=np.uint32) for i in range(16)}\n",
    "C1 = {i: data_set1[f'C1_{i}'].to_numpy(dtype=np.uint32) for i in range(16)}\n",
    "C2 = {i: data_set1[f'C2_{i}'].to_numpy(dtype=np.uint32) for i in range(16)}\n",
    "\n",
    "CL = [D[i] for i in range(16)] + [C1[i] for i in range(16)] + [C2[i] for i in range(16)]\n",
    "\n",
    "Y1 = data_set1['Label'].to_numpy()\n",
    "Y1 = Y1.astype(np.int32)\n",
    "\n",
    "\n",
    "X1 = convert_to_binary(CL)\n",
    "\n",
    "column_names=['del_0','del_1','del_2','del_3', 'del_4', 'del_5','del_6','del_7','del_8','del_9','del_10', 'del_11', 'del_12','del_13','del_14','del_15',\n",
    "       'C1_0','C1_1','C1_2', 'C1_3','C1_4','C1_5','C1_6', 'C1_7','C1_8','C1_9','C1_10', 'C1_11','C1_12','C1_13','C1_14', 'C1_15',\n",
    "       'C2_0','C2_1','C2_2', 'C2_3','C2_4','C2_5','C2_6', 'C2_7','C2_8','C2_9','C2_10', 'C2_11','C2_12','C2_13','C2_14', 'C2_15']\n",
    "\n",
    "\n",
    "print(len(X1[0]))\n",
    "Y1"
   ]
  },
  {
   "cell_type": "code",
   "execution_count": null,
   "metadata": {
    "colab": {
     "base_uri": "https://localhost:8080/"
    },
    "id": "5TxdUYKAnurK",
    "outputId": "ffc55b92-fc78-4aa1-f550-aa4662410b91"
   },
   "outputs": [],
   "source": [
    "print(len(X1))"
   ]
  },
  {
   "cell_type": "code",
   "execution_count": null,
   "metadata": {
    "colab": {
     "base_uri": "https://localhost:8080/"
    },
    "id": "CyhyWdQVRcQr",
    "outputId": "5a363d8e-c5ad-4e11-faba-8934565127b9"
   },
   "outputs": [],
   "source": [
    "for i in range(5):  # Print first 5 rows across arrays\n",
    "    print([arr[i] for arr in CL])"
   ]
  },
  {
   "cell_type": "code",
   "execution_count": null,
   "metadata": {
    "id": "zc3hn5iKE2xg"
   },
   "outputs": [],
   "source": [
    "##################### Collecting the accurate data ##########################\n",
    "\n",
    "\n",
    "import pandas as pd\n",
    "\n",
    "# Function to convert binary array to integer\n",
    "def binary_array_to_int(binary_array):\n",
    "    # Convert binary array to string and then to integer\n",
    "    binary_string = ''.join(str(bit) for bit in binary_array)\n",
    "    return int(binary_string, 2)"
   ]
  },
  {
   "cell_type": "code",
   "execution_count": null,
   "metadata": {
    "id": "XTz7TWZaE5g_"
   },
   "outputs": [],
   "source": [
    "\n",
    "\n",
    "# Reshape features to match the input shape of your model\n",
    "X1_reshaped = X1.reshape(-1, 1536, 1)\n",
    "\n"
   ]
  },
  {
   "cell_type": "code",
   "execution_count": null,
   "metadata": {
    "colab": {
     "base_uri": "https://localhost:8080/"
    },
    "id": "rLVU3xhfFAtC",
    "outputId": "6d7e4f8a-c632-48d9-f02e-c5633475dc89"
   },
   "outputs": [],
   "source": [
    "print((X1_reshaped[2]))"
   ]
  },
  {
   "cell_type": "code",
   "execution_count": null,
   "metadata": {
    "colab": {
     "base_uri": "https://localhost:8080/"
    },
    "id": "XpLqWJItId8D",
    "outputId": "fe24aa59-7b5c-4489-92a3-ddb234f6a583"
   },
   "outputs": [],
   "source": [
    "predicted=model.predict(X1_reshaped)"
   ]
  },
  {
   "cell_type": "code",
   "execution_count": null,
   "metadata": {
    "colab": {
     "base_uri": "https://localhost:8080/"
    },
    "id": "KXWDawHaIyjA",
    "outputId": "7ae4aa2d-06db-4868-a1b2-6e874a43b00f"
   },
   "outputs": [],
   "source": [
    "print(len(predicted))"
   ]
  },
  {
   "cell_type": "code",
   "execution_count": null,
   "metadata": {
    "id": "Nbiq2VWAJRLd"
   },
   "outputs": [],
   "source": [
    "#print(len(X_test))\n",
    "c0=1\n",
    "c1=0\n",
    "# Create an empty list to store the indices of rows that meet the condition\n",
    "filtered_indices = []\n",
    "for i in range(len(predicted)):\n",
    "  p=predicted[i]\n",
    "  if(p>=0.5):\n",
    "    filtered_indices.append(i)"
   ]
  },
  {
   "cell_type": "code",
   "execution_count": null,
   "metadata": {
    "colab": {
     "base_uri": "https://localhost:8080/"
    },
    "id": "urwzed0SKHos",
    "outputId": "605cdaea-06e8-4e6b-8c29-99b9f095fdf4"
   },
   "outputs": [],
   "source": [
    "print(filtered_indices[0:65])\n",
    "print(len(filtered_indices))"
   ]
  },
  {
   "cell_type": "code",
   "execution_count": null,
   "metadata": {
    "id": "7xwql_CsxCb7"
   },
   "outputs": [],
   "source": [
    "# Filter X1 and Y1 based on the filtered indices\n",
    "filtered_X1 = X1[filtered_indices]\n",
    "filtered_Y1 = Y1[filtered_indices]\n",
    "\n",
    "# Convert each row of binary values to integers and store in a list\n",
    "int_values = [[binary_array_to_int(row[i:i+32]) for i in range(0, 1536, 32)] for row in filtered_X1 ]\n",
    "\n",
    "# Assuming you have the column names stored in a list 'column_names'\n",
    "# If not, you can replace it with your actual column names\n",
    "#column_names = ['Feature1', 'Feature2', ...]  # Replace with your column names\n",
    "\n",
    "# If you want to store the filtered X and Y to new CSV files:\n",
    "# First, convert filtered_X and filtered_Y back to a DataFrame\n",
    "filtered_df = pd.DataFrame(int_values, columns= column_names)\n",
    "filtered_df['Label'] = filtered_Y1  # Add the labels to the DataFrame if needed\n",
    "\n",
    "# Save the header to a separate variable\n",
    "header = filtered_df.columns.tolist()\n",
    "\n",
    "# Save the filtered data to a new CSV file\n",
    "filtered_df.to_csv(\"filtered_data.csv\", index=False, header=header)\n"
   ]
  },
  {
   "cell_type": "code",
   "execution_count": null,
   "metadata": {
    "id": "f-ScdLAgTCDK"
   },
   "outputs": [],
   "source": []
  },
  {
   "cell_type": "code",
   "execution_count": null,
   "metadata": {
    "id": "sbDWS8brTCAB"
   },
   "outputs": [],
   "source": []
  },
  {
   "cell_type": "code",
   "execution_count": null,
   "metadata": {
    "id": "LY3NCngfTB9K"
   },
   "outputs": [],
   "source": []
  },
  {
   "cell_type": "code",
   "execution_count": null,
   "metadata": {
    "id": "vtGRfCRM27bG"
   },
   "outputs": [],
   "source": [
    "#####################################################   End  ##############################################################3"
   ]
  }
 ],
 "metadata": {
  "accelerator": "GPU",
  "colab": {
   "gpuType": "T4",
   "provenance": []
  },
  "kernelspec": {
   "display_name": "Python 3 (ipykernel)",
   "language": "python",
   "name": "python3"
  },
  "language_info": {
   "codemirror_mode": {
    "name": "ipython",
    "version": 3
   },
   "file_extension": ".py",
   "mimetype": "text/x-python",
   "name": "python",
   "nbconvert_exporter": "python",
   "pygments_lexer": "ipython3",
   "version": "3.10.12"
  }
 },
 "nbformat": 4,
 "nbformat_minor": 1
}
